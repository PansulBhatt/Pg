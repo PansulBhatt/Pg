{
 "cells": [
  {
   "cell_type": "markdown",
   "metadata": {},
   "source": [
    "## Assignment 1: Operating Room Scheduling"
   ]
  },
  {
   "cell_type": "markdown",
   "metadata": {},
   "source": [
    "**Solution**\n",
    "\\begin{align}\n",
    "Variables: \\\\\n",
    "time_{jk} & = matrix\\ consisting\\ of\\ the\\ number\\ of\\ hours\\ for\\ each\\ room\\ for\\ each\\ day \\\\\n",
    "t_i & = target\\ allocation\\ based\\ on\\ percentage \\\\\n",
    "Decision\\ Variables: \\\\\n",
    "S_i & = Under\\ allocation\\ of\\ department\\ i\\ in\\ hours \\\\\n",
    "X_{ijk} & = For\\ each\\ department\\ i\\ on\\ day\\ k\\ at\\ room\\ j \\\\\n",
    "V_{ilk} & = For\\ each\\ department\\ i\\ on\\ day\\ k\\ at\\ level\\ l \\\\\n",
    "\\\\\n",
    "\\\\\n",
    "Objective\\ function\\ and\\ constraints: \\\\\n",
    "& min. \\sum_{i=1}^{6} S_i/t_i \\\\\n",
    "& s.t. \\\\\n",
    "& For\\ every\\ day\\ k\\ in\\ every\\ room\\ j\\ \\ \\ \\ \\ \\sum_{i=1}^{6} X_{ijk} = 1 \\\\\n",
    "& S_i > t_i - \\sum_{j=1}^{5}\\sum_{k=1}^{5}X_{ijk} * time_{jk} \\ \\ \\ \\ \\ \\ \\ \\ \\forall\\ i=1,2,...,6\\ (\\ all\\ departments) \\\\\n",
    "& S_i >= 0 \\\\\n",
    "\\\\\n",
    "\\\\\n",
    "(Part B) \\\\\n",
    "& \\sum_{i=1}^{6} \\sum_{k=2}^{5} | X_{i1k} - X_{i1(k-1)} | <= 2*2 \\\\\n",
    "OR & \\\\\n",
    "& alloc_{ik} >= X_{i1k} - X_{i1(k+1)} \\ \\ \\ \\ \\ \\ \\forall\\ i\\ and\\ k\\ = \\ 1, 2, 3, 4 \\\\\n",
    "& \\sum_{i} \\sum_{k} alloc_{ik} <= 4 \\\\\n",
    "\\\\\n",
    "\\\\\n",
    "(Part C)  \\\\\n",
    "& 2 * V_{i1k} >= X_{i1k} + X_{i2k} \\\\\n",
    "& 2 * V_{i2k} >= X_{i3k} + X_{i4k} \\\\\n",
    "& V_{i3k} >= X_{i5k} \\\\\n",
    "& \\sum_{l=1}^{3} V_{ilk} = 1 \\ \\ \\ \\ \\ \\ \\ \\ \\forall\\ i=1,2,...,6\\ (\\ all\\ departments)\\ and\\ all\\ k=1, 2, ..., 5 \\\\\n",
    "\\end{align}"
   ]
  },
  {
   "cell_type": "markdown",
   "metadata": {},
   "source": [
    "### Importing required libraries"
   ]
  },
  {
   "cell_type": "code",
   "execution_count": 1,
   "metadata": {},
   "outputs": [],
   "source": [
    "from gurobipy import *\n",
    "import numpy as np\n",
    "import pandas as pd"
   ]
  },
  {
   "cell_type": "markdown",
   "metadata": {},
   "source": [
    "### Adding the constant variables"
   ]
  },
  {
   "cell_type": "code",
   "execution_count": 2,
   "metadata": {},
   "outputs": [],
   "source": [
    "# Total number of available hours for each day of the week\n",
    "time = [\n",
    "    [9 ,9 ,9 ,9, 7.5],\n",
    "    [9, 9, 9, 9, 7.5],\n",
    "    [9, 9, 9, 9, 7.5],\n",
    "    [9, 9, 9, 9, 7.5],\n",
    "    [9, 8, 8, 8, 6.5]\n",
    "]"
   ]
  },
  {
   "cell_type": "code",
   "execution_count": 3,
   "metadata": {},
   "outputs": [],
   "source": [
    "# Department allocation percentage and \n",
    "dept_pct = [48.4, 4.2, 25.3, 7.4, 5.3, 9.5]\n",
    "new_dept_hours = list(map(lambda x: x*2.135, dept_pct))\n",
    "dept_names = ['General Surgery', 'Emergency', 'Neurosurgery', 'Opthamology', 'Oral Surgery', 'Otolaryngology']"
   ]
  },
  {
   "cell_type": "markdown",
   "metadata": {},
   "source": [
    "### Creating decision variables and constraints"
   ]
  },
  {
   "cell_type": "code",
   "execution_count": 4,
   "metadata": {},
   "outputs": [
    {
     "data": {
      "text/plain": [
       "[[9, 9, 9, 9, 7.5],\n",
       " [9, 9, 9, 9, 7.5],\n",
       " [9, 9, 9, 9, 7.5],\n",
       " [9, 9, 9, 9, 7.5],\n",
       " [9, 8, 8, 8, 6.5]]"
      ]
     },
     "execution_count": 4,
     "metadata": {},
     "output_type": "execute_result"
    }
   ],
   "source": [
    "time"
   ]
  },
  {
   "cell_type": "code",
   "execution_count": 5,
   "metadata": {},
   "outputs": [
    {
     "data": {
      "text/plain": [
       "[103.33399999999999,\n",
       " 8.966999999999999,\n",
       " 54.015499999999996,\n",
       " 15.799,\n",
       " 11.315499999999998,\n",
       " 20.2825]"
      ]
     },
     "execution_count": 5,
     "metadata": {},
     "output_type": "execute_result"
    }
   ],
   "source": [
    "new_dept_hours"
   ]
  },
  {
   "cell_type": "code",
   "execution_count": 6,
   "metadata": {},
   "outputs": [],
   "source": [
    "num_dept = len(dept_pct)\n",
    "num_days = len(time)\n",
    "num_rooms = len(time[0])"
   ]
  },
  {
   "cell_type": "code",
   "execution_count": 7,
   "metadata": {},
   "outputs": [],
   "source": [
    "from IPython.display import display, HTML\n",
    "\n",
    "\n",
    "def display_variables():\n",
    "    d = [[-1 for _ in range(num_rooms)] for _ in range(num_days)]\n",
    "    decisions = [[k, v.x] for k, v in X.items() if v.x == 1]\n",
    "    for decision in decisions:\n",
    "        dept_i, room_k, day_j = decision[0]\n",
    "        d[day_j][room_k] = dept_names[dept_i]\n",
    "    \n",
    "    df = pd.DataFrame(d, columns=['Main 1', 'Main 2', 'Main 3', 'Main 4', 'Main 5'],\n",
    "                     index=['Monday', 'Tuesday', 'Wednesday', 'Thursday', 'Friday'])\n",
    "    display(HTML(df.to_html()))\n"
   ]
  },
  {
   "cell_type": "code",
   "execution_count": 8,
   "metadata": {},
   "outputs": [
    {
     "name": "stdout",
     "output_type": "stream",
     "text": [
      "Academic license - for non-commercial use only\n"
     ]
    }
   ],
   "source": [
    "mod = Model()\n",
    "\n",
    "# Decision variable for each department for each day at time a particular time                \n",
    "X = mod.addVars(num_dept, num_rooms, num_days, vtype=GRB.BINARY)\n",
    "\n",
    "# Decision variable to understand the total number of hours allocated per department\n",
    "S = mod.addVars(num_dept)\n",
    "\n",
    "# Constraints\n",
    "for j in range(num_rooms):\n",
    "    for k in range(num_days):\n",
    "        mod.addConstr(sum(X[i, j, k] for i in range(num_dept)) == 1)\n",
    "\n",
    "for i in range(num_dept):    \n",
    "    mod.addConstr(\n",
    "        (new_dept_hours[i] - sum(X[i, j, k]*time[k][j] for j in range(num_rooms) for k in range(num_days))) <= S[i]\n",
    "    )\n",
    "\n",
    "    mod.addConstr(S[i] >= 0)"
   ]
  },
  {
   "cell_type": "markdown",
   "metadata": {},
   "source": [
    "### Setting the objective"
   ]
  },
  {
   "cell_type": "code",
   "execution_count": 11,
   "metadata": {},
   "outputs": [
    {
     "name": "stdout",
     "output_type": "stream",
     "text": [
      "Optimize a model with 86 rows, 186 columns and 480 nonzeros\n",
      "Variable types: 6 continuous, 180 integer (180 binary)\n",
      "Coefficient statistics:\n",
      "  Matrix range     [1e+00, 9e+00]\n",
      "  Objective range  [1e-02, 1e-01]\n",
      "  Bounds range     [1e+00, 1e+00]\n",
      "  RHS range        [1e+00, 1e+02]\n",
      "\n",
      "MIP start produced solution with objective 0.051906 (0.01s)\n",
      "Loaded MIP start with objective 0.051906\n",
      "\n",
      "Presolve removed 6 rows and 6 columns\n",
      "Presolve time: 0.00s\n",
      "Presolved: 80 rows, 180 columns, 474 nonzeros\n",
      "Variable types: 6 continuous, 174 integer (174 binary)\n",
      "\n",
      "Root relaxation: objective 2.066116e-03, 54 iterations, 0.00 seconds\n",
      "\n",
      "    Nodes    |    Current Node    |     Objective Bounds      |     Work\n",
      " Expl Unexpl |  Obj  Depth IntInf | Incumbent    BestBd   Gap | It/Node Time\n",
      "\n",
      "     0     0    0.00207    0    9    0.05191    0.00207  96.0%     -    0s\n",
      "     0     0    0.04982    0    8    0.05191    0.04982  4.01%     -    0s\n",
      "     0     0    0.05177    0    2    0.05191    0.05177  0.26%     -    0s\n",
      "     0     0    0.05177    0    4    0.05191    0.05177  0.26%     -    0s\n",
      "     0     0     cutoff    0         0.05191    0.05191  0.00%     -    0s\n",
      "\n",
      "Cutting planes:\n",
      "  Cover: 2\n",
      "\n",
      "Explored 1 nodes (156 simplex iterations) in 0.08 seconds\n",
      "Thread count was 8 (of 8 available processors)\n",
      "\n",
      "Solution count 1: 0.051906 \n",
      "\n",
      "Optimal solution found (tolerance 1.00e-04)\n",
      "Best objective 5.190597648318e-02, best bound 5.190597648318e-02, gap 0.0000%\n"
     ]
    },
    {
     "data": {
      "text/html": [
       "<table border=\"1\" class=\"dataframe\">\n",
       "  <thead>\n",
       "    <tr style=\"text-align: right;\">\n",
       "      <th></th>\n",
       "      <th>Main 1</th>\n",
       "      <th>Main 2</th>\n",
       "      <th>Main 3</th>\n",
       "      <th>Main 4</th>\n",
       "      <th>Main 5</th>\n",
       "    </tr>\n",
       "  </thead>\n",
       "  <tbody>\n",
       "    <tr>\n",
       "      <th>Monday</th>\n",
       "      <td>General Surgery</td>\n",
       "      <td>Emergency</td>\n",
       "      <td>Neurosurgery</td>\n",
       "      <td>General Surgery</td>\n",
       "      <td>Oral Surgery</td>\n",
       "    </tr>\n",
       "    <tr>\n",
       "      <th>Tuesday</th>\n",
       "      <td>General Surgery</td>\n",
       "      <td>Neurosurgery</td>\n",
       "      <td>Neurosurgery</td>\n",
       "      <td>General Surgery</td>\n",
       "      <td>Otolaryngology</td>\n",
       "    </tr>\n",
       "    <tr>\n",
       "      <th>Wednesday</th>\n",
       "      <td>General Surgery</td>\n",
       "      <td>Neurosurgery</td>\n",
       "      <td>Neurosurgery</td>\n",
       "      <td>Neurosurgery</td>\n",
       "      <td>Otolaryngology</td>\n",
       "    </tr>\n",
       "    <tr>\n",
       "      <th>Thursday</th>\n",
       "      <td>General Surgery</td>\n",
       "      <td>General Surgery</td>\n",
       "      <td>General Surgery</td>\n",
       "      <td>General Surgery</td>\n",
       "      <td>Otolaryngology</td>\n",
       "    </tr>\n",
       "    <tr>\n",
       "      <th>Friday</th>\n",
       "      <td>General Surgery</td>\n",
       "      <td>Opthamology</td>\n",
       "      <td>Opthamology</td>\n",
       "      <td>General Surgery</td>\n",
       "      <td>Oral Surgery</td>\n",
       "    </tr>\n",
       "  </tbody>\n",
       "</table>"
      ],
      "text/plain": [
       "<IPython.core.display.HTML object>"
      ]
     },
     "metadata": {},
     "output_type": "display_data"
    }
   ],
   "source": [
    "mod.setObjective(sum(S[i]/new_dept_hours[i] for i in range(num_dept)), GRB.MINIMIZE)\n",
    "\n",
    "mod.update()\n",
    "mod.optimize()\n",
    "display_variables()"
   ]
  },
  {
   "cell_type": "markdown",
   "metadata": {},
   "source": [
    "### Adding new constraints to take into account that there is not more than 2 switches in Main-1"
   ]
  },
  {
   "cell_type": "code",
   "execution_count": 12,
   "metadata": {},
   "outputs": [
    {
     "data": {
      "text/plain": [
       "<gurobi.Constr *Awaiting Model Update*>"
      ]
     },
     "execution_count": 12,
     "metadata": {},
     "output_type": "execute_result"
    }
   ],
   "source": [
    "alloc = mod.addVars(num_dept, num_days, vtype=GRB.BINARY)\n",
    "\n",
    "for i in range(num_dept):\n",
    "    for k in range(num_days - 1):\n",
    "        mod.addConstr(alloc[i, k] >= (X[i, 0, k] - X[i, 0, (k+1)]))\n",
    "        mod.addConstr(alloc[i, k] >= (X[i, 0, (k+1)] - X[i, 0, k]))\n",
    "\n",
    "mod.addConstr(sum(alloc[i, k] for i in range(num_dept) for k in range(num_days-1)) <= 4)"
   ]
  },
  {
   "cell_type": "markdown",
   "metadata": {},
   "source": [
    "### Optimizing the model"
   ]
  },
  {
   "cell_type": "code",
   "execution_count": 13,
   "metadata": {},
   "outputs": [
    {
     "name": "stdout",
     "output_type": "stream",
     "text": [
      "Optimize a model with 135 rows, 216 columns and 648 nonzeros\n",
      "Variable types: 6 continuous, 210 integer (210 binary)\n",
      "Coefficient statistics:\n",
      "  Matrix range     [1e+00, 9e+00]\n",
      "  Objective range  [1e-02, 1e-01]\n",
      "  Bounds range     [1e+00, 1e+00]\n",
      "  RHS range        [1e+00, 1e+02]\n",
      "\n",
      "MIP start produced solution with objective 0.051906 (0.01s)\n",
      "Loaded MIP start with objective 0.051906\n",
      "\n",
      "Presolve removed 6 rows and 12 columns\n",
      "Presolve time: 0.00s\n",
      "Presolved: 129 rows, 204 columns, 642 nonzeros\n",
      "Variable types: 6 continuous, 198 integer (198 binary)\n",
      "\n",
      "Root relaxation: objective 2.066116e-03, 49 iterations, 0.00 seconds\n",
      "\n",
      "    Nodes    |    Current Node    |     Objective Bounds      |     Work\n",
      " Expl Unexpl |  Obj  Depth IntInf | Incumbent    BestBd   Gap | It/Node Time\n",
      "\n",
      "     0     0    0.00207    0    9    0.05191    0.00207  96.0%     -    0s\n",
      "     0     0    0.04950    0    8    0.05191    0.04950  4.63%     -    0s\n",
      "     0     0    0.04982    0    4    0.05191    0.04982  4.01%     -    0s\n",
      "     0     0    0.04982    0    6    0.05191    0.04982  4.01%     -    0s\n",
      "     0     0    0.04982    0    4    0.05191    0.04982  4.01%     -    0s\n",
      "     0     0    0.05178    0    4    0.05191    0.05178  0.24%     -    0s\n",
      "     0     0 infeasible    0         0.05191    0.05191  0.00%     -    0s\n",
      "\n",
      "Cutting planes:\n",
      "  Gomory: 1\n",
      "  Cover: 1\n",
      "  MIR: 1\n",
      "\n",
      "Explored 1 nodes (180 simplex iterations) in 0.09 seconds\n",
      "Thread count was 8 (of 8 available processors)\n",
      "\n",
      "Solution count 1: 0.051906 \n",
      "\n",
      "Optimal solution found (tolerance 1.00e-04)\n",
      "Best objective 5.190597648318e-02, best bound 5.190597648318e-02, gap 0.0000%\n"
     ]
    },
    {
     "data": {
      "text/html": [
       "<table border=\"1\" class=\"dataframe\">\n",
       "  <thead>\n",
       "    <tr style=\"text-align: right;\">\n",
       "      <th></th>\n",
       "      <th>Main 1</th>\n",
       "      <th>Main 2</th>\n",
       "      <th>Main 3</th>\n",
       "      <th>Main 4</th>\n",
       "      <th>Main 5</th>\n",
       "    </tr>\n",
       "  </thead>\n",
       "  <tbody>\n",
       "    <tr>\n",
       "      <th>Monday</th>\n",
       "      <td>General Surgery</td>\n",
       "      <td>Emergency</td>\n",
       "      <td>Neurosurgery</td>\n",
       "      <td>General Surgery</td>\n",
       "      <td>Oral Surgery</td>\n",
       "    </tr>\n",
       "    <tr>\n",
       "      <th>Tuesday</th>\n",
       "      <td>General Surgery</td>\n",
       "      <td>Neurosurgery</td>\n",
       "      <td>Neurosurgery</td>\n",
       "      <td>General Surgery</td>\n",
       "      <td>Otolaryngology</td>\n",
       "    </tr>\n",
       "    <tr>\n",
       "      <th>Wednesday</th>\n",
       "      <td>General Surgery</td>\n",
       "      <td>Neurosurgery</td>\n",
       "      <td>Neurosurgery</td>\n",
       "      <td>Neurosurgery</td>\n",
       "      <td>Otolaryngology</td>\n",
       "    </tr>\n",
       "    <tr>\n",
       "      <th>Thursday</th>\n",
       "      <td>General Surgery</td>\n",
       "      <td>General Surgery</td>\n",
       "      <td>General Surgery</td>\n",
       "      <td>General Surgery</td>\n",
       "      <td>Otolaryngology</td>\n",
       "    </tr>\n",
       "    <tr>\n",
       "      <th>Friday</th>\n",
       "      <td>General Surgery</td>\n",
       "      <td>Opthamology</td>\n",
       "      <td>Opthamology</td>\n",
       "      <td>General Surgery</td>\n",
       "      <td>Oral Surgery</td>\n",
       "    </tr>\n",
       "  </tbody>\n",
       "</table>"
      ],
      "text/plain": [
       "<IPython.core.display.HTML object>"
      ]
     },
     "metadata": {},
     "output_type": "display_data"
    }
   ],
   "source": [
    "mod.update()\n",
    "mod.optimize()\n",
    "display_variables()"
   ]
  },
  {
   "cell_type": "markdown",
   "metadata": {},
   "source": [
    "### Adding additional constraints to handle the allocations for floors"
   ]
  },
  {
   "cell_type": "code",
   "execution_count": 14,
   "metadata": {
    "scrolled": true
   },
   "outputs": [
    {
     "name": "stdout",
     "output_type": "stream",
     "text": [
      "Optimize a model with 255 rows, 306 columns and 978 nonzeros\n",
      "Variable types: 6 continuous, 300 integer (300 binary)\n",
      "Coefficient statistics:\n",
      "  Matrix range     [1e+00, 9e+00]\n",
      "  Objective range  [1e-02, 1e-01]\n",
      "  Bounds range     [1e+00, 1e+00]\n",
      "  RHS range        [1e+00, 1e+02]\n",
      "\n",
      "MIP start did not produce a new incumbent solution\n",
      "\n",
      "Found heuristic solution: objective 0.8330206\n",
      "Presolve removed 66 rows and 72 columns\n",
      "Presolve time: 0.00s\n",
      "Presolved: 189 rows, 234 columns, 852 nonzeros\n",
      "Variable types: 6 continuous, 228 integer (228 binary)\n",
      "\n",
      "Root relaxation: objective 1.387152e-01, 101 iterations, 0.00 seconds\n",
      "\n",
      "    Nodes    |    Current Node    |     Objective Bounds      |     Work\n",
      " Expl Unexpl |  Obj  Depth IntInf | Incumbent    BestBd   Gap | It/Node Time\n",
      "\n",
      "     0     0    0.13872    0    3    0.83302    0.13872  83.3%     -    0s\n",
      "H    0     0                       0.1764494    0.13872  21.4%     -    0s\n",
      "H    0     0                       0.1667720    0.13872  16.8%     -    0s\n",
      "H    0     0                       0.1387152    0.13872  0.00%     -    0s\n",
      "     0     0    0.13872    0    6    0.13872    0.13872  0.00%     -    0s\n",
      "\n",
      "Cutting planes:\n",
      "  Cover: 3\n",
      "  MIR: 1\n",
      "\n",
      "Explored 1 nodes (377 simplex iterations) in 0.05 seconds\n",
      "Thread count was 8 (of 8 available processors)\n",
      "\n",
      "Solution count 4: 0.138715 0.166772 0.176449 0.833021 \n",
      "\n",
      "Optimal solution found (tolerance 1.00e-04)\n",
      "Best objective 1.387152340953e-01, best bound 1.387152340953e-01, gap 0.0000%\n"
     ]
    },
    {
     "data": {
      "text/html": [
       "<table border=\"1\" class=\"dataframe\">\n",
       "  <thead>\n",
       "    <tr style=\"text-align: right;\">\n",
       "      <th></th>\n",
       "      <th>Main 1</th>\n",
       "      <th>Main 2</th>\n",
       "      <th>Main 3</th>\n",
       "      <th>Main 4</th>\n",
       "      <th>Main 5</th>\n",
       "    </tr>\n",
       "  </thead>\n",
       "  <tbody>\n",
       "    <tr>\n",
       "      <th>Monday</th>\n",
       "      <td>Neurosurgery</td>\n",
       "      <td>Emergency</td>\n",
       "      <td>General Surgery</td>\n",
       "      <td>General Surgery</td>\n",
       "      <td>Oral Surgery</td>\n",
       "    </tr>\n",
       "    <tr>\n",
       "      <th>Tuesday</th>\n",
       "      <td>Neurosurgery</td>\n",
       "      <td>Neurosurgery</td>\n",
       "      <td>General Surgery</td>\n",
       "      <td>General Surgery</td>\n",
       "      <td>Otolaryngology</td>\n",
       "    </tr>\n",
       "    <tr>\n",
       "      <th>Wednesday</th>\n",
       "      <td>Neurosurgery</td>\n",
       "      <td>Neurosurgery</td>\n",
       "      <td>General Surgery</td>\n",
       "      <td>General Surgery</td>\n",
       "      <td>Otolaryngology</td>\n",
       "    </tr>\n",
       "    <tr>\n",
       "      <th>Thursday</th>\n",
       "      <td>Opthamology</td>\n",
       "      <td>Oral Surgery</td>\n",
       "      <td>General Surgery</td>\n",
       "      <td>General Surgery</td>\n",
       "      <td>Neurosurgery</td>\n",
       "    </tr>\n",
       "    <tr>\n",
       "      <th>Friday</th>\n",
       "      <td>General Surgery</td>\n",
       "      <td>General Surgery</td>\n",
       "      <td>Opthamology</td>\n",
       "      <td>Neurosurgery</td>\n",
       "      <td>Otolaryngology</td>\n",
       "    </tr>\n",
       "  </tbody>\n",
       "</table>"
      ],
      "text/plain": [
       "<IPython.core.display.HTML object>"
      ]
     },
     "metadata": {},
     "output_type": "display_data"
    }
   ],
   "source": [
    "V = {}\n",
    "for i in range(num_dept):\n",
    "    for k in range(num_rooms):\n",
    "        for l in range(3):      \n",
    "            V[i, l, k] = mod.addVar(vtype=GRB.BINARY, name=f\"For department {i+1} at floor {l+1} on day {k+1}\")\n",
    "            \n",
    "for i in range(num_dept):\n",
    "    for k in range(num_rooms):\n",
    "        mod.addConstr(2*V[i, 0, k] >= X[i, 0, k] + X[i, 1, k])\n",
    "        mod.addConstr(2*V[i, 1, k] >= X[i, 2, k] + X[i, 3, k])\n",
    "        mod.addConstr(V[i, 2, k] >= X[i, 4, k])\n",
    "        \n",
    "        mod.addConstr(sum(V[i, l, k] for l in range(3)) == 1)\n",
    "\n",
    "mod.update()\n",
    "mod.optimize()\n",
    "display_variables()"
   ]
  }
 ],
 "metadata": {
  "kernelspec": {
   "display_name": "Python 3",
   "language": "python",
   "name": "python3"
  },
  "language_info": {
   "codemirror_mode": {
    "name": "ipython",
    "version": 3
   },
   "file_extension": ".py",
   "mimetype": "text/x-python",
   "name": "python",
   "nbconvert_exporter": "python",
   "pygments_lexer": "ipython3",
   "version": "3.6.9"
  }
 },
 "nbformat": 4,
 "nbformat_minor": 2
}
